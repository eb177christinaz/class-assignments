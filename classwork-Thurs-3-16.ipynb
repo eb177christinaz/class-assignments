{
 "cells": [
  {
   "cell_type": "markdown",
   "metadata": {},
   "source": [
    "    Aditya Kantawala\n",
    "            When the dinosaurs existed, the continents were in different locations correct? How does that change the \n",
    "            mapping of the geographical location of the dinos?\n",
    "        \n",
    "    Justin Shieh\n",
    "        Will you have enough samples to show correlations between brain size and extinctions?\n",
    "\n",
    "    Sarah Kim\n",
    "        HOW DID YOU MAKE YOUR PHYLOGENETIC TREE. (teach me pls) But do you plan on looking at stratographic occurance?\n",
    "\n",
    "    Christina Zhou\n",
    "        it me. \n",
    "\n",
    "    Gayane Hovsepyan\n",
    "        Why is there a gap?\n",
    "\n",
    "    Roxana Nojoumi\n",
    "        What did you want to see in relation to plants and horse diversity? Maybe being more specific with plants will \n",
    "        show you separate results.\n",
    "\n",
    "    Cooper Kass\n",
    "        YOUR PIE CHART. i like it. How far are the invasive species traveling?\n",
    "    \n",
    "    Jeffrey Lee\n",
    "        What are the other orders(?) \n",
    "\n",
    "    Laura Trejo\n",
    "        Why are they restricted to the tropical regions?\n",
    "\n",
    "    Jin Kim\n",
    "        Your graphs are lovely. What about South Korea and Saudi Arabia makes the it so habitable during those times?\n",
    "\n",
    "    Marina Salama\n",
    "        Do you see a substantial decline in your data due to the chytrid fungus affecting frogs?\n",
    "\n",
    "    Erin Solis\n",
    "        Why do you think species exist for such short intervals? Do they thrive in a certain area more?\n",
    "\n",
    "    Sean Mathew\n",
    "        THAT GIF YOU ARE A GOD. Why do you think your fossil occurence doesn't match with the Pyrate analysis?\n",
    "        \n",
    "    Tiffany Dang\n",
    "        "
   ]
  }
 ],
 "metadata": {
  "anaconda-cloud": {},
  "kernelspec": {
   "display_name": "Python [conda root]",
   "language": "python",
   "name": "conda-root-py"
  },
  "language_info": {
   "codemirror_mode": {
    "name": "ipython",
    "version": 3
   },
   "file_extension": ".py",
   "mimetype": "text/x-python",
   "name": "python",
   "nbconvert_exporter": "python",
   "pygments_lexer": "ipython3",
   "version": "3.5.2"
  }
 },
 "nbformat": 4,
 "nbformat_minor": 2
}
