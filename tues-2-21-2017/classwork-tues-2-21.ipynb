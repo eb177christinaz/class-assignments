{
 "cells": [
  {
   "cell_type": "markdown",
   "metadata": {},
   "source": [
    "## What does each row in cocoli.txt represent?\n",
    "Defines each tagged tree and states species code and when they were remeasured for growth"
   ]
  },
  {
   "cell_type": "markdown",
   "metadata": {},
   "source": [
    "## What does each row in cocolisp.txt represent?\n",
    "Each row defines the species code into the genus, species, and family it belongs to. "
   ]
  },
  {
   "cell_type": "markdown",
   "metadata": {},
   "source": [
    "## What does the entry in the column multi 2 refer to?\n",
    "Multi 2 refers to the number of stems the plant has at 1.3m at the second measurement. -1 means that the tree has died, -2 means that the tree has not entered the census yet, -9 refers to missing measurement. "
   ]
  },
  {
   "cell_type": "markdown",
   "metadata": {},
   "source": [
    "## What does the entry in the column dbh2 refer to?\n",
    "Dbh2 means the Diameter to Breast height, recorded in mm during the second measurement. Usually plants have a score of 10 or above."
   ]
  },
  {
   "cell_type": "markdown",
   "metadata": {},
   "source": [
    "## How can we find the genus and species name of this record?\n",
    "The genus and species name can be found in the cocolisp.txt file that translates the species code into the genus, species, and family it belongs to."
   ]
  },
  {
   "cell_type": "markdown",
   "metadata": {},
   "source": [
    "## What is the genus and species of this record?\n",
    "The species code is CAL2CA and the genus and species is Calycophyllum candidissimum."
   ]
  },
  {
   "cell_type": "markdown",
   "metadata": {},
   "source": [
    "## Possible Questions:\n",
    "Was there a pattern of stem loss due to natural events?\n",
    "\n",
    "Does the number of stems correlate to diameter to breast height (more stems = greater diameter?)\n",
    "\n",
    "Does location in the grid affect population density of specific species?\n",
    "\n",
    "Does tree death promote or inhibit growth of surrounding trees?\n",
    "\n",
    "Did plant growth change through the intervals?"
   ]
  },
  {
   "cell_type": "markdown",
   "metadata": {},
   "source": [
    "## Which genus is the most frequent?\n",
    "sed 's/\\s/,/g' cocolisp.txt > dummycocoli.txt\n",
    "\n",
    "cut -d ',' -f 2 dummycocolisp.txt | sort | uniq -c | sort\n",
    "\n",
    "Piper: 7"
   ]
  },
  {
   "cell_type": "markdown",
   "metadata": {},
   "source": [
    "## How many genuses only have 1 species represented in this forrest?\n",
    "cut -d \",\" -f 2 dummycocolisp.txt | sort | uniq -c | sort -n | grep -w \"1\" | wc -l\n",
    "\n",
    "98 genera"
   ]
  },
  {
   "cell_type": "markdown",
   "metadata": {},
   "source": [
    "## How many genera are there in the forrest?\n",
    "cut -d \",\" -f 2 dummycocolisp.txt | sort | uniq -c | sort -n | wc -l\n",
    "\n",
    "126 genera"
   ]
  },
  {
   "cell_type": "markdown",
   "metadata": {},
   "source": [
    "## Guided exploration of the data\n",
    "Write psuedo code"
   ]
  },
  {
   "cell_type": "code",
   "execution_count": 3,
   "metadata": {
    "collapsed": false
   },
   "outputs": [],
   "source": [
    "# Which individual had the higest yearly RGR between 1994 - 1998?\n",
    "#Data collection dates were 1994, 1997, 1998\n",
    "#Need to find RGR: ((dbht+1)-(dbht))/(dbht)\n"
   ]
  },
  {
   "cell_type": "code",
   "execution_count": null,
   "metadata": {
    "collapsed": true
   },
   "outputs": [],
   "source": []
  }
 ],
 "metadata": {
  "anaconda-cloud": {},
  "kernelspec": {
   "display_name": "Python [conda root]",
   "language": "python",
   "name": "conda-root-py"
  },
  "language_info": {
   "codemirror_mode": {
    "name": "ipython",
    "version": 3
   },
   "file_extension": ".py",
   "mimetype": "text/x-python",
   "name": "python",
   "nbconvert_exporter": "python",
   "pygments_lexer": "ipython3",
   "version": "3.5.2"
  }
 },
 "nbformat": 4,
 "nbformat_minor": 2
}
