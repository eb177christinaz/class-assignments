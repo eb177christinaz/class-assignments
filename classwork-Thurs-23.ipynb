{
 "cells": [
  {
   "cell_type": "code",
   "execution_count": 3,
   "metadata": {
    "collapsed": true
   },
   "outputs": [],
   "source": [
    "family_url = \"http://www.fishbase.org/Nomenclature/NominalSpeciesList.php?family=Abyssocottidae\""
   ]
  },
  {
   "cell_type": "code",
   "execution_count": 8,
   "metadata": {
    "collapsed": false
   },
   "outputs": [
    {
     "name": "stderr",
     "output_type": "stream",
     "text": [
      "/home/eeb177-student/miniconda3/lib/python3.5/site-packages/bs4/__init__.py:181: UserWarning: No parser was explicitly specified, so I'm using the best available HTML parser for this system (\"html.parser\"). This usually isn't a problem, but if you run this code on another system, or in a different virtual environment, it may use a different parser and behave differently.\n",
      "\n",
      "The code that caused this warning is on line 184 of the file /home/eeb177-student/miniconda3/lib/python3.5/runpy.py. To get rid of this warning, change code that looks like this:\n",
      "\n",
      " BeautifulSoup([your markup])\n",
      "\n",
      "to this:\n",
      "\n",
      " BeautifulSoup([your markup], \"html.parser\")\n",
      "\n",
      "  markup_type=markup_type))\n"
     ]
    }
   ],
   "source": [
    "import urllib.request\n",
    "from bs4 import BeautifulSoup\n",
    "\n",
    "html = urllib.request.urlopen(family_url)\n",
    "html_doc = html.read()\n",
    "html.close()\n",
    "\n",
    "soup = BeautifulSoup(html_doc)"
   ]
  },
  {
   "cell_type": "code",
   "execution_count": 12,
   "metadata": {
    "collapsed": false
   },
   "outputs": [
    {
     "data": {
      "text/plain": [
       "[<a href=\"../manual/english/FishBaseThe_SYNONYMS_Table.htm\">More info</a>,\n",
       " <a href=\"../manual/french/FishBaseNomenclature.htm#0036bda3\">Plus d'info</a>,\n",
       " <a href=\"../manual/Portuguese/Nomenclature.htm#The_synonyms_table\">Mais info</a>,\n",
       " <a href=\"/search.php\">FishBase</a>,\n",
       " <a href=\"/Nomenclature/FamilySearchList.php?Family=Abyssocottidae\">Show all fishes</a>,\n",
       " <a href=\"/Summary/SpeciesSummary.php?ID=48059\"><i>Limnocottus bergianus</i></a>,\n",
       " <a href=\"/References/FBRefSummary.php?ID=26334\">26334</a>,\n",
       " <a href=\"/Summary/SpeciesSummary.php?ID=48058\"><i>Cottinella boulengeri</i></a>,\n",
       " <a href=\"/References/FBRefSummary.php?ID=26282\">26282</a>,\n",
       " <a href=\"/Summary/SpeciesSummary.php?ID=48039\"><i>Abyssocottus elochini</i></a>,\n",
       " <a href=\"/References/FBRefSummary.php?ID=26334\">26334</a>,\n",
       " <a href=\"/Summary/SpeciesSummary.php?ID=48040\"><i>Abyssocottus gibbosus</i></a>,\n",
       " <a href=\"/References/FBRefSummary.php?ID=26334\">26334</a>,\n",
       " <a href=\"/Summary/SpeciesSummary.php?ID=48040\"><i>Abyssocottus gibbosus</i></a>,\n",
       " <a href=\"/References/FBRefSummary.php?ID=2058\">2058</a>,\n",
       " <a href=\"/Summary/SpeciesSummary.php?ID=48061\"><i>Limnocottus godlewskii</i></a>,\n",
       " <a href=\"/References/FBRefSummary.php?ID=33021\">33021</a>,\n",
       " <a href=\"/Summary/SpeciesSummary.php?ID=48061\"><i>Limnocottus godlewskii</i></a>,\n",
       " <a href=\"/References/FBRefSummary.php?ID=2058\">2058</a>,\n",
       " <a href=\"/Summary/SpeciesSummary.php?ID=48062\"><i>Limnocottus griseus</i></a>,\n",
       " <a href=\"/References/FBRefSummary.php?ID=40966\">40966</a>,\n",
       " <a href=\"/Summary/SpeciesSummary.php?ID=60303\"><i>Procottus gotoi</i></a>,\n",
       " <a href=\"/References/FBRefSummary.php?ID=53210\">53210</a>,\n",
       " <a href=\"/Summary/SpeciesSummary.php?ID=48085\"><i>Procottus gurwicii</i></a>,\n",
       " <a href=\"/References/FBRefSummary.php?ID=26282\">26282</a>,\n",
       " <a href=\"/Summary/SpeciesSummary.php?ID=48049\"><i>Asprocottus herzensteini</i></a>,\n",
       " <a href=\"/References/FBRefSummary.php?ID=26334\">26334</a>,\n",
       " <a href=\"/Summary/SpeciesSummary.php?ID=48048\"><i>Asprocottus abyssalis</i></a>,\n",
       " <a href=\"/References/FBRefSummary.php?ID=26282\">26282</a>,\n",
       " <a href=\"/Summary/SpeciesSummary.php?ID=61488\"><i>Asprocottus intermedius</i></a>,\n",
       " <a href=\"/References/FBRefSummary.php?ID=46206\">46206</a>,\n",
       " <a href=\"/Summary/SpeciesSummary.php?ID=48051\"><i>Asprocottus parmiferus</i></a>,\n",
       " <a href=\"/References/FBRefSummary.php?ID=26282\">26282</a>,\n",
       " <a href=\"/Summary/SpeciesSummary.php?ID=48054\"><i>Asprocottus platycephalus</i></a>,\n",
       " <a href=\"/References/FBRefSummary.php?ID=26282\">26282</a>,\n",
       " <a href=\"/Summary/SpeciesSummary.php?ID=48084\"><i>Procottus jeittelesii</i></a>,\n",
       " <a href=\"/References/FBRefSummary.php?ID=2058\">2058</a>,\n",
       " <a href=\"/Summary/SpeciesSummary.php?ID=48087\"><i>Procottus major</i></a>,\n",
       " <a href=\"/References/FBRefSummary.php?ID=33021\">33021</a>,\n",
       " <a href=\"/Summary/SpeciesSummary.php?ID=48085\"><i>Procottus gurwicii</i></a>,\n",
       " <a href=\"/References/FBRefSummary.php?ID=46206\">46206</a>,\n",
       " <a href=\"/Summary/SpeciesSummary.php?ID=48084\"><i>Procottus jeittelesii</i></a>,\n",
       " <a href=\"/References/FBRefSummary.php?ID=26282\">26282</a>,\n",
       " <a href=\"/Summary/SpeciesSummary.php?ID=60302\"><i>Asprocottus korjakovi</i></a>,\n",
       " <a href=\"/References/FBRefSummary.php?ID=53210\">53210</a>,\n",
       " <a href=\"/Summary/SpeciesSummary.php?ID=62234\"><i>Asprocottus minor</i></a>,\n",
       " <a href=\"/References/FBRefSummary.php?ID=53210\">53210</a>,\n",
       " <a href=\"/Summary/SpeciesSummary.php?ID=47208\"><i>Abyssocottus korotneffi</i></a>,\n",
       " <a href=\"/References/FBRefSummary.php?ID=42042\">42042</a>,\n",
       " <a href=\"/Summary/SpeciesSummary.php?ID=48064\"><i>Cyphocottus megalops</i></a>,\n",
       " <a href=\"/References/FBRefSummary.php?ID=46206\">46206</a>,\n",
       " <a href=\"/Summary/SpeciesSummary.php?ID=48064\"><i>Cyphocottus megalops</i></a>,\n",
       " <a href=\"/References/FBRefSummary.php?ID=26282\">26282</a>,\n",
       " <a href=\"/Summary/SpeciesSummary.php?ID=48060\"><i>Cyphocottus eurystomus</i></a>,\n",
       " <a href=\"/References/FBRefSummary.php?ID=26282\">26282</a>,\n",
       " <a href=\"/Summary/SpeciesSummary.php?ID=48083\"><i>Limnocottus pallidus</i></a>,\n",
       " <a href=\"/References/FBRefSummary.php?ID=26334\">26334</a>,\n",
       " <a href=\"/Summary/SpeciesSummary.php?ID=48055\"><i>Asprocottus pulcher</i></a>,\n",
       " <a href=\"/References/FBRefSummary.php?ID=26334\">26334</a>,\n",
       " <a href=\"/Summary/SpeciesSummary.php?ID=60304\"><i>Neocottus thermalis</i></a>,\n",
       " <a href=\"/References/FBRefSummary.php?ID=53210\">53210</a>,\n",
       " <a href=\"/Summary/SpeciesSummary.php?ID=48042\"><i>Neocottus werestschagini</i></a>,\n",
       " <a href=\"/References/FBRefSummary.php?ID=2058\">2058</a>,\n",
       " <a href=\"/search.php\">FishBase</a>,\n",
       " <a href=\"#top\">Back to top</a>,\n",
       " <a href=\"/collaborators/CollaboratorSummary.php?id=405\">eagbayani</a>,\n",
       " <a href=\"/collaborators/CollaboratorSummary.php?id=2016\">cmilitante</a>]"
      ]
     },
     "execution_count": 12,
     "metadata": {},
     "output_type": "execute_result"
    }
   ],
   "source": [
    "links = soup.find_all(\"a\")\n",
    "links\n",
    "#giving all links, only want italicized links"
   ]
  },
  {
   "cell_type": "code",
   "execution_count": 17,
   "metadata": {
    "collapsed": false
   },
   "outputs": [
    {
     "name": "stdout",
     "output_type": "stream",
     "text": [
      "Limnocottus bergianus\n",
      "Cottinella boulengeri\n",
      "Abyssocottus elochini\n",
      "Abyssocottus gibbosus\n",
      "Abyssocottus gibbosus\n",
      "Limnocottus godlewskii\n",
      "Limnocottus godlewskii\n",
      "Limnocottus griseus\n",
      "Procottus gotoi\n",
      "Procottus gurwicii\n",
      "Asprocottus herzensteini\n",
      "Asprocottus abyssalis\n",
      "Asprocottus intermedius\n",
      "Asprocottus parmiferus\n",
      "Asprocottus platycephalus\n",
      "Procottus jeittelesii\n",
      "Procottus major\n",
      "Procottus gurwicii\n",
      "Procottus jeittelesii\n",
      "Asprocottus korjakovi\n",
      "Asprocottus minor\n",
      "Abyssocottus korotneffi\n",
      "Cyphocottus megalops\n",
      "Cyphocottus megalops\n",
      "Cyphocottus eurystomus\n",
      "Limnocottus pallidus\n",
      "Asprocottus pulcher\n",
      "Neocottus thermalis\n",
      "Neocottus werestschagini\n"
     ]
    }
   ],
   "source": [
    "for link in links:\n",
    "    italics = link.find_all(\"i\")\n",
    "    #print(len(italics)) #in that link element 0 means no italics, 1 means italics\n",
    "    for italic in italics:\n",
    "        print (italic.string) #if just italic, it prints link, italic.string gives species name\n"
   ]
  },
  {
   "cell_type": "code",
   "execution_count": 21,
   "metadata": {
    "collapsed": false
   },
   "outputs": [],
   "source": [
    "import urllib.request\n",
    "import json\n",
    "\n",
    "api_url = \"https://fishbase.ropensci.org/species/?genus=Platichthys&species=stellatus\"\n",
    "\n",
    "raw_json = urllib.request.urlopen(api_url)\n",
    "decoded_json = raw_json.read().decode('utf-8')\n",
    "parsed_json = json.loads(decoded_json) ## we use the json.load method directly\n",
    "raw_json.close()\n"
   ]
  },
  {
   "cell_type": "code",
   "execution_count": 23,
   "metadata": {
    "collapsed": false
   },
   "outputs": [
    {
     "data": {
      "text/plain": [
       "'Found inshore, often in very shallow water and in estuaries during the summer; moving into deeper water in the winter (Ref. 27547).  However, they may occur in deep water throughout the year (Ref. 27547).  Does not venture into water of high salinities (Ref. 28899).  Young and adults move up rivers, as much as 120 km (Ref. 27547).  Benthic (Ref. 58426).  Feeds on crustaceans, worms, small mollusks, brittle stars, and small fishes (Ref. 6885).  Important game fish (Ref. 2850).  Utilized fresh and frozen; eaten steamed, fried, boiled, microwaved, and baked (Ref. 9988).'"
      ]
     },
     "execution_count": 23,
     "metadata": {},
     "output_type": "execute_result"
    }
   ],
   "source": [
    "parsed_json[\"data\"][0][\"Comments\"]"
   ]
  },
  {
   "cell_type": "code",
   "execution_count": null,
   "metadata": {
    "collapsed": true
   },
   "outputs": [],
   "source": []
  }
 ],
 "metadata": {
  "anaconda-cloud": {},
  "kernelspec": {
   "display_name": "Python [conda root]",
   "language": "python",
   "name": "conda-root-py"
  },
  "language_info": {
   "codemirror_mode": {
    "name": "ipython",
    "version": 3
   },
   "file_extension": ".py",
   "mimetype": "text/x-python",
   "name": "python",
   "nbconvert_exporter": "python",
   "pygments_lexer": "ipython3",
   "version": "3.5.2"
  }
 },
 "nbformat": 4,
 "nbformat_minor": 2
}
