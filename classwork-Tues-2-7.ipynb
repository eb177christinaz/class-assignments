{
 "cells": [
  {
   "cell_type": "markdown",
   "metadata": {},
   "source": [
    "## Defining a Programming challenge\n",
    "**Example**: Write a program that asks the user for a temperature in Fahrenheit and prints out the same temperature in Celsius."
   ]
  },
  {
   "cell_type": "markdown",
   "metadata": {},
   "source": [
    "xx = user input of a temp in F   \n",
    "yy = converrt xx to C   \n",
    "print yy"
   ]
  },
  {
   "cell_type": "code",
   "execution_count": 2,
   "metadata": {
    "collapsed": false
   },
   "outputs": [
    {
     "name": "stdout",
     "output_type": "stream",
     "text": [
      "What is the temperature in Fahrenheit? 45\n",
      "The temperature of C is 7.222222222222222\n"
     ]
    }
   ],
   "source": [
    "temp = input (\"What is the temperature in Fahrenheit? \")\n",
    "cels = (float(temp)-32)*5/9\n",
    "print(\"The temperature of C is {}\".format(cels))\n"
   ]
  },
  {
   "cell_type": "code",
   "execution_count": null,
   "metadata": {
    "collapsed": false
   },
   "outputs": [],
   "source": [
    "\n",
    "    #if the password is wrong, say access denied\n",
    "    #if the password is right, grant access\n",
    "    \n",
    "password = (\"sesame\")\n",
    "hello = input(\"Enter the password: \")\n",
    "while hello != password:\n",
    "        print (\"Access denied\")\n",
    "        hello - input (\"Enter the password: \")\n",
    "        if hello == password:\n",
    "                print (\"Login successful!\")\n"
   ]
  },
  {
   "cell_type": "code",
   "execution_count": 1,
   "metadata": {
    "collapsed": false
   },
   "outputs": [
    {
     "name": "stdout",
     "output_type": "stream",
     "text": [
      "5 8\n",
      "[5, 8]\n",
      "[5, 8]\n",
      "[1, 1, 2, 3, 5, 8, 13]\n",
      "{'a': '.-', 'b': '-...', 'c': '-.-.', 'd': '-..'}\n"
     ]
    }
   ],
   "source": [
    "a = [1,1,2,3,5,8]\n",
    "print(a[4],a[5])\n",
    "print(a[-2:])\n",
    "print(a[4:6])\n",
    "a.append(13)\n",
    "print(a)\n",
    "m = {\"a\":\".-\", \"b\":\"-...-\", \"c\":\"-.-.\"}\n",
    "m[\"d\"] = \"-..\"\n",
    "m[\"b\"] = \"-...\"\n",
    "print(m)"
   ]
  },
  {
   "cell_type": "code",
   "execution_count": 10,
   "metadata": {
    "collapsed": false
   },
   "outputs": [
    {
     "data": {
      "text/plain": [
       "3200.0"
      ]
     },
     "execution_count": 10,
     "metadata": {},
     "output_type": "execute_result"
    }
   ],
   "source": [
    "my_dict = {}\n",
    "my_dict = {\"a\":\"test\", \"b\":3.14, \"c\":[1,2,3,4]}\n",
    "GenomeSize = {\"Homo sapiens\": 3200.0, \"Escherichia coli\":4.6, \"Arabidopsis thaliana\":157.0}\n",
    "GenomeSize[\"Homo sapiens\"]"
   ]
  },
  {
   "cell_type": "code",
   "execution_count": 9,
   "metadata": {
    "collapsed": true
   },
   "outputs": [],
   "source": [
    "fam_dict = {\"mom\":\"Jennifer\", \"dad\":\"Joseph\"}"
   ]
  },
  {
   "cell_type": "code",
   "execution_count": 11,
   "metadata": {
    "collapsed": false
   },
   "outputs": [
    {
     "data": {
      "text/plain": [
       "{'cousin': 'Jasmine', 'dad': 'Joseph', 'mom': 'Jennifer'}"
      ]
     },
     "execution_count": 11,
     "metadata": {},
     "output_type": "execute_result"
    }
   ],
   "source": [
    "fam_dict[\"cousin\"] = \"Jasmine\"\n",
    "fam_dict"
   ]
  },
  {
   "cell_type": "code",
   "execution_count": 16,
   "metadata": {
    "collapsed": false
   },
   "outputs": [
    {
     "name": "stdout",
     "output_type": "stream",
     "text": [
      "('cousin', 'Jasmine')\n",
      "('mom', 'Jennifer')\n",
      "('dad', 'Joseph')\n"
     ]
    }
   ],
   "source": [
    "for pair in fam_dict.items():\n",
    "        print(pair)"
   ]
  },
  {
   "cell_type": "code",
   "execution_count": 18,
   "metadata": {
    "collapsed": false
   },
   "outputs": [
    {
     "name": "stdout",
     "output_type": "stream",
     "text": [
      "cousin Jasmine\n",
      "mom Jennifer\n",
      "dad Joseph\n"
     ]
    }
   ],
   "source": [
    "for key, value in fam_dict.items():\n",
    "        print(key,value)"
   ]
  },
  {
   "cell_type": "markdown",
   "metadata": {},
   "source": [
    "## Use a list to walk through your faily dictionary in reverse alphabetical order of the keys"
   ]
  },
  {
   "cell_type": "code",
   "execution_count": 30,
   "metadata": {
    "collapsed": false
   },
   "outputs": [
    {
     "data": {
      "text/plain": [
       "['cousin', 'mom', 'dad']"
      ]
     },
     "execution_count": 30,
     "metadata": {},
     "output_type": "execute_result"
    }
   ],
   "source": [
    "relatives = list(fam_dict.keys())\n",
    "relatives"
   ]
  },
  {
   "cell_type": "code",
   "execution_count": 31,
   "metadata": {
    "collapsed": false
   },
   "outputs": [
    {
     "name": "stdout",
     "output_type": "stream",
     "text": [
      "['dad', 'mom', 'cousin']\n"
     ]
    }
   ],
   "source": [
    "relatives.reverse()\n",
    "print (relatives)"
   ]
  },
  {
   "cell_type": "code",
   "execution_count": 33,
   "metadata": {
    "collapsed": false
   },
   "outputs": [
    {
     "name": "stdout",
     "output_type": "stream",
     "text": [
      "['mom', 'dad', 'cousin']\n"
     ]
    }
   ],
   "source": [
    "relatives.sort(reverse=True)\n",
    "print(relatives)"
   ]
  },
  {
   "cell_type": "code",
   "execution_count": 36,
   "metadata": {
    "collapsed": false
   },
   "outputs": [
    {
     "data": {
      "text/plain": [
       "list"
      ]
     },
     "execution_count": 36,
     "metadata": {},
     "output_type": "execute_result"
    }
   ],
   "source": [
    "foodweb=[(\"a\",\"b\"),(\"a\",\"c\")]\n",
    "type(foodweb)"
   ]
  },
  {
   "cell_type": "code",
   "execution_count": 37,
   "metadata": {
    "collapsed": true
   },
   "outputs": [],
   "source": [
    "ss =foodweb[0]"
   ]
  },
  {
   "cell_type": "code",
   "execution_count": null,
   "metadata": {
    "collapsed": true
   },
   "outputs": [],
   "source": []
  }
 ],
 "metadata": {
  "anaconda-cloud": {},
  "kernelspec": {
   "display_name": "Python [conda root]",
   "language": "python",
   "name": "conda-root-py"
  },
  "language_info": {
   "codemirror_mode": {
    "name": "ipython",
    "version": 3
   },
   "file_extension": ".py",
   "mimetype": "text/x-python",
   "name": "python",
   "nbconvert_exporter": "python",
   "pygments_lexer": "ipython3",
   "version": "3.5.2"
  }
 },
 "nbformat": 4,
 "nbformat_minor": 2
}
