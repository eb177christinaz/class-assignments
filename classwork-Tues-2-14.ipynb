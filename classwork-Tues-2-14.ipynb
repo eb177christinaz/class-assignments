{
 "cells": [
  {
   "cell_type": "code",
   "execution_count": null,
   "metadata": {
    "collapsed": true
   },
   "outputs": [],
   "source": [
    "seq = \"ATCTTCT\"\n",
    "\n",
    "seq = seq.replace(\"A\",\"a\")\n",
    "seq = seq.replace(\"T\",\"t\")"
   ]
  },
  {
   "cell_type": "code",
   "execution_count": 2,
   "metadata": {
    "collapsed": false
   },
   "outputs": [
    {
     "name": "stdout",
     "output_type": "stream",
     "text": [
      "This string has 10 characters.\n"
     ]
    }
   ],
   "source": [
    "def stringAnalyzer(ss):\n",
    "        length = len(ss)\n",
    "        return(\"This string has {} characters.\".format(length))\n",
    "print(stringAnalyzer(\"I love you\"))"
   ]
  },
  {
   "cell_type": "code",
   "execution_count": 4,
   "metadata": {
    "collapsed": false
   },
   "outputs": [
    {
     "name": "stdout",
     "output_type": "stream",
     "text": [
      "0.5294117647058824\n",
      "0.5294117647058824\n"
     ]
    }
   ],
   "source": [
    "def get_at_content(dna):\n",
    "        dna = dna.upper() # make sure DNA is upper case\n",
    "        length = len(dna)\n",
    "        a_count = dna.count('A')\n",
    "        t_count = dna.count ('T')\n",
    "        at_content = (a_count + t_count) / length\n",
    "        return at_content\n",
    "print(get_at_content(\"ATGCATGCAACTGTAGC\"))\n",
    "print(get_at_content(\"atgcatgcaactgtagc\"))"
   ]
  },
  {
   "cell_type": "markdown",
   "metadata": {},
   "source": [
    "## in class challenge\n",
    "write a function that counts the numbers of As, Ts, Cs, and Gs. Use a loop."
   ]
  },
  {
   "cell_type": "code",
   "execution_count": 10,
   "metadata": {
    "collapsed": false
   },
   "outputs": [
    {
     "ename": "TypeError",
     "evalue": "'function' object is not subscriptable",
     "output_type": "error",
     "traceback": [
      "\u001b[0;31m---------------------------------------------------------------------------\u001b[0m",
      "\u001b[0;31mTypeError\u001b[0m                                 Traceback (most recent call last)",
      "\u001b[0;32m<ipython-input-10-acbcc6aeec0d>\u001b[0m in \u001b[0;36m<module>\u001b[0;34m()\u001b[0m\n\u001b[1;32m      7\u001b[0m         \u001b[0mbaseDict\u001b[0m\u001b[0;34m[\u001b[0m\u001b[0mcc\u001b[0m\u001b[0;34m]\u001b[0m \u001b[0;34m=\u001b[0m \u001b[0mcount\u001b[0m\u001b[0;34m\u001b[0m\u001b[0m\n\u001b[1;32m      8\u001b[0m         \u001b[0;32mreturn\u001b[0m \u001b[0mbaseDict\u001b[0m\u001b[0;34m\u001b[0m\u001b[0m\n\u001b[0;32m----> 9\u001b[0;31m \u001b[0mbasecounter\u001b[0m\u001b[0;34m[\u001b[0m\u001b[0mseq\u001b[0m\u001b[0;34m]\u001b[0m\u001b[0;34m\u001b[0m\u001b[0m\n\u001b[0m",
      "\u001b[0;31mTypeError\u001b[0m: 'function' object is not subscriptable"
     ]
    }
   ],
   "source": [
    "seq = \"ATCTTCT\"\n",
    "def basecounter(dna):\n",
    "    baseDict = {} # will hold my counts\n",
    "    dna = dna.upper()\n",
    "    for cc in [\"A\",\"T\",\"G\",\"C\"]:\n",
    "        count = dna.upper().count(cc)\n",
    "        baseDict[cc] = count\n",
    "        return baseDict\n",
    "basecounter[seq]"
   ]
  },
  {
   "cell_type": "code",
   "execution_count": 17,
   "metadata": {
    "collapsed": false
   },
   "outputs": [],
   "source": [
    "def get_at_content(dna, sigfig):\n",
    "    length = len (dna)\n",
    "    a_count = dna.upper().count('A')\n",
    "    t_count = dna.upper().count('T')\n",
    "    at_count = (a_count + t_count) / length\n",
    "    return round (at_count, sigfig)"
   ]
  },
  {
   "cell_type": "code",
   "execution_count": 18,
   "metadata": {
    "collapsed": false
   },
   "outputs": [
    {
     "data": {
      "text/plain": [
       "0.45"
      ]
     },
     "execution_count": 18,
     "metadata": {},
     "output_type": "execute_result"
    }
   ],
   "source": [
    "#get_at_content(\"ATGCGCCATCGATCGAATCG\") will have error message since need 2 arguements\n",
    "get_at_content(\"ATGCGCCATCGATCGAATCG\", 2)"
   ]
  },
  {
   "cell_type": "code",
   "execution_count": null,
   "metadata": {
    "collapsed": true
   },
   "outputs": [],
   "source": []
  }
 ],
 "metadata": {
  "anaconda-cloud": {},
  "kernelspec": {
   "display_name": "Python [conda root]",
   "language": "python",
   "name": "conda-root-py"
  },
  "language_info": {
   "codemirror_mode": {
    "name": "ipython",
    "version": 3
   },
   "file_extension": ".py",
   "mimetype": "text/x-python",
   "name": "python",
   "nbconvert_exporter": "python",
   "pygments_lexer": "ipython3",
   "version": "3.5.2"
  }
 },
 "nbformat": 4,
 "nbformat_minor": 2
}
