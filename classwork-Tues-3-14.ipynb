{
 "cells": [
  {
   "cell_type": "markdown",
   "metadata": {},
   "source": [
    "## Questions  and comments for speakers\n",
    "    Kelsey Jiang\n",
    "        What trends did you notice from comparing KT extinction rates and the current ongoing extinction event?\n",
    "    Dominique Castro\n",
    "        For the fossils that were only identified as canis, what era were they from?\n",
    "    Linna Sun !!!THOSE MAPS\n",
    "        When was speciation for elephants at its peak?\n",
    "    Ashen Parikh\n",
    "        What does the cooperation numbers mean? US more likely to cooperate\n",
    "    Matthew Muia\n",
    "        Why is there a missing valley in where the oak lives? What does it need to thrive?\n",
    "    Antonella Gonzalez\n",
    "        Is it a possibility that the alligatoridae mississippienis was generaly located in an area that fostered its \n",
    "        species richness which lead to its success through the years?\n",
    "    Yee Chau\n",
    "        What doyou mean by pre-era and post-era?\n",
    "    Kristen Lee !!! THOSE MAPS\n",
    "        Is the migration north over time due to weather, continental drift? \n",
    "    Madison Downing\n",
    "        Why do you think there is an increase of mammal fossils along the coasts?\n",
    "    Youstina Salama\n",
    "        Why do you think there's a uniform gap between your fossil occurrence time along most species?\n",
    "    Jeremy Wadowski\n",
    "         Is falling between your window of interest primarily beneficial for performance or also on fat burn?\n",
    "    Mehdi Nojoumi\n",
    "        Why are you interested in birds for artherosclerosis? Is there any relevance or applictions that can be linked \n",
    "        with humans?\n",
    "    Junghoon Kim\n",
    "         Did you find any substantial differences between the colored light shown on the cockroaches?\n",
    "    Dustin Wong\n",
    "        Do you think there is any reason why species lived for such short times?\n",
    "    Hyein Kil\n",
    "        How did the ducks get to ASia? Is there any purpose of the poof on the head of the Asian ducks?\n",
    "    "
   ]
  },
  {
   "cell_type": "code",
   "execution_count": null,
   "metadata": {
    "collapsed": true
   },
   "outputs": [],
   "source": []
  }
 ],
 "metadata": {
  "anaconda-cloud": {},
  "kernelspec": {
   "display_name": "Python [conda root]",
   "language": "python",
   "name": "conda-root-py"
  },
  "language_info": {
   "codemirror_mode": {
    "name": "ipython",
    "version": 3
   },
   "file_extension": ".py",
   "mimetype": "text/x-python",
   "name": "python",
   "nbconvert_exporter": "python",
   "pygments_lexer": "ipython3",
   "version": "3.5.2"
  }
 },
 "nbformat": 4,
 "nbformat_minor": 2
}
