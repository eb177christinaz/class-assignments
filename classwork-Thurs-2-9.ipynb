{
 "cells": [
  {
   "cell_type": "code",
   "execution_count": 4,
   "metadata": {
    "collapsed": false
   },
   "outputs": [
    {
     "name": "stdout",
     "output_type": "stream",
     "text": [
      "Homo is an ape.\n",
      "Pan is an ape.\n",
      "Gorilla is an ape.\n"
     ]
    }
   ],
   "source": [
    "apes = [\"Homo\", \"Pan\", \"Gorilla\"]\n",
    "for animal in apes:\n",
    "    print(animal + \" is an ape.\")"
   ]
  },
  {
   "cell_type": "code",
   "execution_count": 9,
   "metadata": {
    "collapsed": false
   },
   "outputs": [
    {
     "name": "stdout",
     "output_type": "stream",
     "text": [
      "Homo is an ape. Its name starts with H\n",
      "Its name has 4 letters.\n",
      "Pan is an ape. Its name starts with P\n",
      "Its name has 3 letters.\n",
      "Gorilla is an ape. Its name starts with G\n",
      "Its name has 7 letters.\n"
     ]
    }
   ],
   "source": [
    "apes = [\"Homo\",\"Pan\", \"Gorilla\"]\n",
    "for ape in apes:\n",
    "    name_length= len(ape)\n",
    "    first_letter = ape[0]\n",
    "    print(ape +\" is an ape. Its name starts with \" + first_letter)\n",
    "    print(\"Its name has \" + str(name_length) + \" letters.\")\n",
    "        "
   ]
  },
  {
   "cell_type": "code",
   "execution_count": 10,
   "metadata": {
    "collapsed": false
   },
   "outputs": [
    {
     "name": "stdout",
     "output_type": "stream",
     "text": [
      "2\n",
      "6\n",
      "10\n"
     ]
    }
   ],
   "source": [
    "for number in range(2,14,4):\n",
    "    print(number)"
   ]
  },
  {
   "cell_type": "markdown",
   "metadata": {},
   "source": [
    "## Classwork Assignment\n",
    "1. 1882 families"
   ]
  },
  {
   "cell_type": "code",
   "execution_count": null,
   "metadata": {
    "collapsed": true
   },
   "outputs": [],
   "source": [
    "##\n",
    "##tail -n+4 formatted.nature.csv | cut -d\",\" -f 3 | sort | uniq | wc -l\n",
    "##cat nature21074-f1.csv | tr \"\\r\" \"\\n\" > formatted.nature.csv\n"
   ]
  }
 ],
 "metadata": {
  "anaconda-cloud": {},
  "kernelspec": {
   "display_name": "Python [conda root]",
   "language": "python",
   "name": "conda-root-py"
  },
  "language_info": {
   "codemirror_mode": {
    "name": "ipython",
    "version": 3
   },
   "file_extension": ".py",
   "mimetype": "text/x-python",
   "name": "python",
   "nbconvert_exporter": "python",
   "pygments_lexer": "ipython3",
   "version": "3.5.2"
  }
 },
 "nbformat": 4,
 "nbformat_minor": 2
}
